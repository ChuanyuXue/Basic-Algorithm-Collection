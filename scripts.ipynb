{
 "metadata": {
  "language_info": {
   "codemirror_mode": {
    "name": "ipython",
    "version": 3
   },
   "file_extension": ".py",
   "mimetype": "text/x-python",
   "name": "python",
   "nbconvert_exporter": "python",
   "pygments_lexer": "ipython3",
   "version": "3.7.2-final"
  },
  "orig_nbformat": 2,
  "kernelspec": {
   "name": "Python 3.7.2 64-bit ('base': conda)",
   "display_name": "Python 3.7.2 64-bit ('base': conda)",
   "metadata": {
    "interpreter": {
     "hash": "b3ba2566441a7c06988d0923437866b63cedc61552a5af99d1f4fb67d367b25f"
    }
   }
  }
 },
 "nbformat": 4,
 "nbformat_minor": 2,
 "cells": [
  {
   "cell_type": "code",
   "execution_count": 2,
   "metadata": {},
   "outputs": [],
   "source": [
    "n = 3"
   ]
  },
  {
   "cell_type": "code",
   "execution_count": 10,
   "metadata": {},
   "outputs": [],
   "source": [
    "def index(row, col):\n",
    "    n = 3\n",
    "    x, y = [], []\n",
    "    for i in range(1, n//2+1):\n",
    "        if row + i < n and col + i < n:\n",
    "            x.append(row+i)\n",
    "            y.append(col+i)\n",
    "        if row - i >= 0 and col - i >= 0:\n",
    "            x.append(row-i)\n",
    "            y.append(col-i)\n",
    "        if row + i < n and col - i >= 0:\n",
    "            x.append(row+i)\n",
    "            y.append(col-i)\n",
    "        if row - i >= 0 and col + i < n:\n",
    "            x.append(row-i)\n",
    "            y.append(col+i)\n",
    "    return x, y"
   ]
  },
  {
   "cell_type": "code",
   "execution_count": 11,
   "metadata": {},
   "outputs": [
    {
     "output_type": "execute_result",
     "data": {
      "text/plain": "([2, 0, 2, 0], [2, 0, 0, 2])"
     },
     "metadata": {},
     "execution_count": 11
    }
   ],
   "source": [
    "index(1,1)"
   ]
  }
 ]
}