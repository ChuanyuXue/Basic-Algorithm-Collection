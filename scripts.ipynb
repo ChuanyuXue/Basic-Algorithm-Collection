{
 "metadata": {
  "language_info": {
   "codemirror_mode": {
    "name": "ipython",
    "version": 3
   },
   "file_extension": ".py",
   "mimetype": "text/x-python",
   "name": "python",
   "nbconvert_exporter": "python",
   "pygments_lexer": "ipython3",
   "version": "3.7.2-final"
  },
  "orig_nbformat": 2,
  "kernelspec": {
   "name": "Python 3.7.2 64-bit ('ProgramData': virtualenv)",
   "display_name": "Python 3.7.2 64-bit ('ProgramData': virtualenv)",
   "metadata": {
    "interpreter": {
     "hash": "b3ba2566441a7c06988d0923437866b63cedc61552a5af99d1f4fb67d367b25f"
    }
   }
  }
 },
 "nbformat": 4,
 "nbformat_minor": 2,
 "cells": [
  {
   "cell_type": "code",
   "execution_count": 2,
   "metadata": {},
   "outputs": [],
   "source": [
    "n = 3"
   ]
  },
  {
   "cell_type": "code",
   "execution_count": 10,
   "metadata": {},
   "outputs": [],
   "source": [
    "def index(row, col):\n",
    "    n = 3\n",
    "    x, y = [], []\n",
    "    for i in range(1, n//2+1):\n",
    "        if row + i < n and col + i < n:\n",
    "            x.append(row+i)\n",
    "            y.append(col+i)\n",
    "        if row - i >= 0 and col - i >= 0:\n",
    "            x.append(row-i)\n",
    "            y.append(col-i)\n",
    "        if row + i < n and col - i >= 0:\n",
    "            x.append(row+i)\n",
    "            y.append(col-i)\n",
    "        if row - i >= 0 and col + i < n:\n",
    "            x.append(row-i)\n",
    "            y.append(col+i)\n",
    "    return x, y"
   ]
  },
  {
   "cell_type": "code",
   "execution_count": 11,
   "metadata": {},
   "outputs": [
    {
     "output_type": "execute_result",
     "data": {
      "text/plain": "([2, 0, 2, 0], [2, 0, 0, 2])"
     },
     "metadata": {},
     "execution_count": 11
    }
   ],
   "source": [
    "index(1,1)"
   ]
  },
  {
   "cell_type": "code",
   "execution_count": 1,
   "metadata": {},
   "outputs": [
    {
     "output_type": "error",
     "ename": "IndexError",
     "evalue": "list index out of range",
     "traceback": [
      "\u001b[1;31m---------------------------------------------------------------------------\u001b[0m",
      "\u001b[1;31mIndexError\u001b[0m                                Traceback (most recent call last)",
      "\u001b[1;32m&lt;ipython-input-1-04da969828ff&gt;\u001b[0m in \u001b[0;36m&lt;module&gt;\u001b[1;34m\u001b[0m\n\u001b[1;32m----&gt; 1\u001b[1;33m \u001b[1;33m[\u001b[0m\u001b[1;33m[\u001b[0m\u001b[1;36m1\u001b[0m\u001b[1;33m,\u001b[0m\u001b[1;36m2\u001b[0m\u001b[1;33m,\u001b[0m\u001b[1;36m3\u001b[0m\u001b[1;33m]\u001b[0m\u001b[1;33m]\u001b[0m\u001b[1;33m[\u001b[0m\u001b[1;36m1\u001b[0m\u001b[1;33m]\u001b[0m\u001b[1;33m\u001b[0m\u001b[1;33m\u001b[0m\u001b[0m\n\u001b[0m",
      "\u001b[1;31mIndexError\u001b[0m: list index out of range"
     ]
    }
   ],
   "source": [
    "[[1,2,3]][1]"
   ]
  },
  {
   "cell_type": "code",
   "execution_count": 2,
   "metadata": {},
   "outputs": [
    {
     "output_type": "execute_result",
     "data": {
      "text/plain": "[&#39;a&#39;]"
     },
     "metadata": {},
     "execution_count": 2
    }
   ],
   "source": [
    "\"a\".split(' ')"
   ]
  },
  {
   "cell_type": "code",
   "execution_count": 3,
   "metadata": {},
   "outputs": [
    {
     "output_type": "execute_result",
     "data": {
      "text/plain": "&#39;123&#39;"
     },
     "metadata": {},
     "execution_count": 3
    }
   ],
   "source": [
    "\"\".join([\"1\",\"2\",\"3\"])"
   ]
  },
  {
   "cell_type": "code",
   "execution_count": 1,
   "metadata": {},
   "outputs": [
    {
     "output_type": "execute_result",
     "data": {
      "text/plain": "1"
     },
     "metadata": {},
     "execution_count": 1
    }
   ],
   "source": [
    "4 % 3"
   ]
  },
  {
   "cell_type": "code",
   "execution_count": 2,
   "metadata": {},
   "outputs": [
    {
     "output_type": "execute_result",
     "data": {
      "text/plain": "2"
     },
     "metadata": {},
     "execution_count": 2
    }
   ],
   "source": [
    "2 % 5"
   ]
  },
  {
   "cell_type": "code",
   "execution_count": 6,
   "metadata": {},
   "outputs": [],
   "source": [
    "def kSum(A, k):\n",
    "    length = len(A)\n",
    "    dp = [[0 for _ in range(k + 1)] for _ in range(length + 1)]\n",
    "    for i in range(length + 1):\n",
    "        dp[i][0] = 1 \n",
    "    for i in range(1, length + 1):\n",
    "        for j in range(1, k + 1):\n",
    "            dp[i][j] = dp[i - 1][j - 1] + dp[i - 1][j]\n",
    "    \n",
    "    return dp[length][k]"
   ]
  },
  {
   "cell_type": "code",
   "execution_count": 7,
   "metadata": {},
   "outputs": [
    {
     "output_type": "execute_result",
     "data": {
      "text/plain": [
       "35"
      ]
     },
     "metadata": {},
     "execution_count": 7
    }
   ],
   "source": [
    "kSum([2,8,-5,6,-10,-3,7], 3)"
   ]
  },
  {
   "cell_type": "code",
   "execution_count": 14,
   "metadata": {},
   "outputs": [],
   "source": [
    "def seak(nums, target, k):\n",
    "    if k == 0 or not nums:\n",
    "        if target == 0:\n",
    "            return True\n",
    "        else:\n",
    "            return False\n",
    "    for i,v in enumerate(nums):\n",
    "        return seak([l for j,l in enumerate(nums) if j != i], target - v, k - 1)"
   ]
  },
  {
   "cell_type": "code",
   "execution_count": 15,
   "metadata": {},
   "outputs": [
    {
     "output_type": "execute_result",
     "data": {
      "text/plain": [
       "False"
      ]
     },
     "metadata": {},
     "execution_count": 15
    }
   ],
   "source": [
    "seak([2,8,-5,6,-10,-3,7],0, 3)"
   ]
  }
 ]
}